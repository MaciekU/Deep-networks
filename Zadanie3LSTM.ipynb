{
 "cells": [
  {
   "cell_type": "code",
   "execution_count": 1,
   "metadata": {
    "colab": {
     "base_uri": "https://localhost:8080/",
     "height": 34
    },
    "colab_type": "code",
    "id": "SJOL9EYtxrlf",
    "outputId": "15999f0d-06ef-499e-9cb8-4dec4ad4050f"
   },
   "outputs": [
    {
     "name": "stdout",
     "output_type": "stream",
     "text": [
      "Drive already mounted at /content/drive; to attempt to forcibly remount, call drive.mount(\"/content/drive\", force_remount=True).\n"
     ]
    }
   ],
   "source": [
    "from google.colab import drive\n",
    "drive.mount('/content/drive')"
   ]
  },
  {
   "cell_type": "code",
   "execution_count": 0,
   "metadata": {
    "colab": {
     "base_uri": "https://localhost:8080/",
     "height": 51
    },
    "colab_type": "code",
    "id": "OvF83YErx9hS",
    "outputId": "b0cdff62-0b82-49f2-e4c9-39aaba572885"
   },
   "outputs": [
    {
     "name": "stdout",
     "output_type": "stream",
     "text": [
      "concatenated.txt\n",
      "/content\n"
     ]
    }
   ],
   "source": [
    "\n",
    "!ls /content/drive/My\\ Drive/lstm_data/\n",
    "\n",
    "!pwd"
   ]
  },
  {
   "cell_type": "code",
   "execution_count": 0,
   "metadata": {
    "colab": {},
    "colab_type": "code",
    "id": "Nm9kspXKxO7B"
   },
   "outputs": [],
   "source": [
    "import os\n",
    "from sklearn.preprocessing import OneHotEncoder\n",
    "import pandas as pd\n",
    "import numpy as np\n",
    "import tensorflow as tf\n",
    "import os\n",
    "from itertools import zip_longest"
   ]
  },
  {
   "cell_type": "code",
   "execution_count": 0,
   "metadata": {
    "colab": {},
    "colab_type": "code",
    "id": "62iYhRTjxO7L"
   },
   "outputs": [],
   "source": [
    "from sklearn.model_selection import train_test_split\n",
    "data = pd.read_csv('drive/My Drive/lstm_data/concatenated.txt', header=None)[[1,3]]\n",
    "data.columns = ['gender', 'name']\n",
    "data['name'] = [name.lower() for name in data['name']]\n",
    "\n",
    "name_len = 16\n",
    "letter_to_int = {}\n",
    "letter_to_int[None] = 0\n",
    "for index, letter  in enumerate(sorted(\"qwertyuiopasdfghjklzxcvbnm\")):\n",
    "    letter_to_int[letter] = index + 1\n",
    "\n",
    "dict_len = len(letter_to_int)\n",
    "def name_to_vector(name):\n",
    "    end_vector = np.arange(0)\n",
    "    for letter,_ in zip_longest(name, range(name_len)):\n",
    "        end_vector = np.append(end_vector, (np.arange(dict_len) == letter_to_int[letter]).astype(np.int8))\n",
    "    return end_vector.reshape(name_len, dict_len)\n",
    "\n",
    "X = np.array([name_to_vector(name) for name in data['name']])\n",
    "Y = np.array([0 if x == 'F' else 1 for x in data['gender']])\n",
    "X_train, X_test, Y_train, Y_test = train_test_split(X, Y, test_size=0.2)"
   ]
  },
  {
   "cell_type": "code",
   "execution_count": 3,
   "metadata": {
    "colab": {
     "base_uri": "https://localhost:8080/",
     "height": 285
    },
    "colab_type": "code",
    "id": "EBLhKCsCxO7R",
    "outputId": "2d2026ca-b9d1-41da-9550-e1db30eb4f02",
    "scrolled": true
   },
   "outputs": [
    {
     "name": "stderr",
     "output_type": "stream",
     "text": [
      "/usr/local/lib/python3.6/dist-packages/tensorflow/python/ops/gradients_impl.py:112: UserWarning: Converting sparse IndexedSlices to a dense Tensor of unknown shape. This may consume a large amount of memory.\n",
      "  \"Converting sparse IndexedSlices to a dense Tensor of unknown shape. \"\n"
     ]
    },
    {
     "ename": "NameError",
     "evalue": "ignored",
     "output_type": "error",
     "traceback": [
      "\u001b[0;31m---------------------------------------------------------------------------\u001b[0m",
      "\u001b[0;31mNameError\u001b[0m                                 Traceback (most recent call last)",
      "\u001b[0;32m<ipython-input-3-1ea667e58349>\u001b[0m in \u001b[0;36m<module>\u001b[0;34m()\u001b[0m\n\u001b[1;32m     50\u001b[0m     \u001b[0;32mfor\u001b[0m \u001b[0mepoch\u001b[0m \u001b[0;32min\u001b[0m \u001b[0mrange\u001b[0m\u001b[0;34m(\u001b[0m\u001b[0mn_epochs\u001b[0m\u001b[0;34m)\u001b[0m\u001b[0;34m:\u001b[0m\u001b[0;34m\u001b[0m\u001b[0;34m\u001b[0m\u001b[0m\n\u001b[1;32m     51\u001b[0m         \u001b[0mavg_cost\u001b[0m \u001b[0;34m=\u001b[0m \u001b[0;36m0.0\u001b[0m\u001b[0;34m\u001b[0m\u001b[0;34m\u001b[0m\u001b[0m\n\u001b[0;32m---> 52\u001b[0;31m         \u001b[0mtotal_batch\u001b[0m \u001b[0;34m=\u001b[0m \u001b[0mint\u001b[0m\u001b[0;34m(\u001b[0m\u001b[0mlen\u001b[0m\u001b[0;34m(\u001b[0m\u001b[0mX_train\u001b[0m\u001b[0;34m)\u001b[0m\u001b[0;34m/\u001b[0m\u001b[0mbatch_size\u001b[0m\u001b[0;34m)\u001b[0m\u001b[0;34m\u001b[0m\u001b[0;34m\u001b[0m\u001b[0m\n\u001b[0m\u001b[1;32m     53\u001b[0m         \u001b[0;32mfor\u001b[0m \u001b[0mi\u001b[0m \u001b[0;32min\u001b[0m \u001b[0mrange\u001b[0m\u001b[0;34m(\u001b[0m\u001b[0mlen\u001b[0m\u001b[0;34m(\u001b[0m\u001b[0mX_train\u001b[0m\u001b[0;34m)\u001b[0m \u001b[0;34m//\u001b[0m \u001b[0mbatch_size\u001b[0m\u001b[0;34m)\u001b[0m\u001b[0;34m:\u001b[0m\u001b[0;34m\u001b[0m\u001b[0;34m\u001b[0m\u001b[0m\n\u001b[1;32m     54\u001b[0m \u001b[0;34m\u001b[0m\u001b[0m\n",
      "\u001b[0;31mNameError\u001b[0m: name 'X_train' is not defined"
     ]
    }
   ],
   "source": [
    "tf.reset_default_graph()\n",
    "n_layers = 1\n",
    "n_neurons = 100\n",
    "n_outputs = 2\n",
    "learning_rate = 0.001\n",
    "learn_cells = 0 # 0 lstm | 1 gru\n",
    "\n",
    "    \n",
    "X = tf.placeholder(tf.float32, shape=(None, 16, 27))#(batch_size, 3072))\n",
    "Y = tf.placeholder(tf.int32, shape=None)#(batch_size, 10))\n",
    "\n",
    "if learn_cells == 0:\n",
    "    lstm_cells = [tf.contrib.rnn.BasicLSTMCell(num_units=n_neurons)\n",
    "        for layer in range(n_layers)]\n",
    "    #lstm_cell = tf.contrib.rnn.LSTMCell(num_units=n_neurons, use_peepholes=True)\n",
    "    cells = tf.contrib.rnn.MultiRNNCell(lstm_cells)\n",
    "    outputs, states = tf.nn.dynamic_rnn(cells, X, dtype=tf.float32)\n",
    "    new_state = states[-1][1]\n",
    "    logits = tf.layers.dense(new_state, n_outputs, name=\"softmax\")\n",
    "    \n",
    "if learn_cells == 1:\n",
    "    gru_cells = [tf.contrib.rnn.GRUCell(num_units=n_neurons) for layer in range(n_layers)]\n",
    "    cells = tf.contrib.rnn.MultiRNNCell(gru_cells)\n",
    "    outputs, states = tf.nn.dynamic_rnn(cells, X, dtype=tf.float32)\n",
    "    output = tf.transpose(outputs, [1, 0, 2])\n",
    "    last = tf.gather(output, int(output.get_shape()[0]) - 1)\n",
    "    logits = tf.contrib.layers.fully_connected(last, n_outputs, activation_fn=None)\n",
    "   \n",
    "\n",
    "cross_entropy = tf.nn.sparse_softmax_cross_entropy_with_logits(labels=Y, logits=logits)\n",
    "loss = tf.reduce_mean(cross_entropy, name=\"loss\")\n",
    "optimizer = tf.train.AdamOptimizer(learning_rate=learning_rate)\n",
    "training_op = optimizer.minimize(loss)\n",
    "correct = tf.nn.in_top_k(logits, Y, 1)\n",
    "accuracy = tf.reduce_mean(tf.cast(correct, tf.float32))\n",
    "confusion_matrix = tf.confusion_matrix(labels = Y, predictions = tf.argmax(logits,1))\n",
    "    \n",
    "n_epochs = 10\n",
    "batch_size = 200\n",
    "\n",
    "loss_op = tf.reduce_mean(tf.nn.sparse_softmax_cross_entropy_with_logits(labels=Y, logits=logits))\n",
    "train_op = optimizer.minimize(loss_op)\n",
    "\n",
    "wykres_acc1 = []\n",
    "cost_list = []\n",
    "init = tf.global_variables_initializer()\n",
    "with tf.Session() as sess:\n",
    "    init.run()\n",
    "\n",
    "    for epoch in range(n_epochs):\n",
    "        avg_cost = 0.0\n",
    "        total_batch = int(len(X_train)/batch_size)\n",
    "        for i in range(len(X_train) // batch_size):\n",
    "\n",
    "            X_batch, Y_batch = X_train[batch_size * i : batch_size * (i + 1)], Y_train[batch_size * i : batch_size * (i + 1)]\n",
    "            _, c = sess.run([train_op, loss_op], feed_dict={X: X_batch, Y: Y_batch})\n",
    "            avg_cost += c / total_batch #koszt\n",
    "\n",
    "\n",
    "        acc_test = accuracy.eval(feed_dict={X: X_test, Y: Y_test})\n",
    "        wykres_acc1.append(acc_test)\n",
    "        cost_list.append(avg_cost)\n",
    "        print(\"Epoch:\",epoch,\"Accuracy:\", acc_test)\n",
    "        print(\"Cost:\", avg_cost)\n",
    "\n",
    "    matrix_conf = confusion_matrix.eval({X: X_test, Y: Y_test})\n",
    "    print(matrix_conf)\n",
    "print(\"Test len train test\",len(X_train),len(X_test))\n",
    "\n",
    "        "
   ]
  },
  {
   "cell_type": "code",
   "execution_count": 36,
   "metadata": {
    "colab": {
     "base_uri": "https://localhost:8080/",
     "height": 265
    },
    "colab_type": "code",
    "id": "b9tyFEEsxO7X",
    "outputId": "f9d6a463-0cba-48df-c570-5bd4b96834e5"
   },
   "outputs": [
    {
     "data": {
      "image/png": "[encoded data removed]",
      "text/plain": [
       "<matplotlib.figure.Figure at 0x7fb97e64fb00>"
      ]
     },
     "metadata": {
      "tags": []
     },
     "output_type": "display_data"
    }
   ],
   "source": [
    "%matplotlib inline\n",
    "import pylab\n",
    "x = list(range(1, epoch+2))\n",
    "y = wykres_acc1\n",
    "pylab.ylabel('Accuracy')\n",
    "pylab.plot(x,y,'bo', label='')\n",
    "pylab.show()"
   ]
  },
  {
   "cell_type": "code",
   "execution_count": 37,
   "metadata": {
    "colab": {
     "base_uri": "https://localhost:8080/",
     "height": 265
    },
    "colab_type": "code",
    "id": "xad0TkopxO7a",
    "outputId": "a154bc80-08b3-4d2a-bd9d-46cc13d3d072"
   },
   "outputs": [
    {
     "data": {
      "image/png": "[encoded data removed]",
      "text/plain": [
       "<matplotlib.figure.Figure at 0x7fb97d3e36a0>"
      ]
     },
     "metadata": {
      "tags": []
     },
     "output_type": "display_data"
    }
   ],
   "source": [
    "import seaborn as sns\n",
    "LABELS = ['F', 'M']\n",
    "new_matrix = np.array(matrix_conf)\n",
    "dziel = matrix_conf.sum()\n",
    "new_matrix = new_matrix/dziel\n",
    "sns.heatmap(new_matrix, xticklabels=LABELS, yticklabels=LABELS, annot=True, fmt=\".0%\");\n"
   ]
  },
  {
   "cell_type": "code",
   "execution_count": 38,
   "metadata": {
    "colab": {
     "base_uri": "https://localhost:8080/",
     "height": 279
    },
    "colab_type": "code",
    "id": "gff2A_8xxO7e",
    "outputId": "7cd4343f-9410-4f8c-f31d-07f7c03c2261"
   },
   "outputs": [
    {
     "data": {
      "image/png": "[encoded data removed]",
      "text/plain": [
       "<matplotlib.figure.Figure at 0x7fb975010c88>"
      ]
     },
     "metadata": {
      "tags": []
     },
     "output_type": "display_data"
    }
   ],
   "source": [
    "%matplotlib inline\n",
    "import pylab\n",
    "x = list(range(1, epoch+2 ) )\n",
    "y = cost_list\n",
    "pylab.xlabel('Epoch')\n",
    "pylab.ylabel('Cost')\n",
    "pylab.plot(x,y,'bo', label='')\n",
    "pylab.show()"
   ]
  },
  {
   "cell_type": "code",
   "execution_count": 0,
   "metadata": {
    "colab": {},
    "colab_type": "code",
    "id": "3QBF1I4nxO7g"
   },
   "outputs": [],
   "source": [
    "a =Y_test[0:150]\n",
    "import collections\n",
    "print(collections.Counter(a))"
   ]
  }
 ],
 "metadata": {
  "accelerator": "GPU",
  "colab": {
   "collapsed_sections": [],
   "name": "Zadanie2LSTM.ipynb",
   "provenance": [],
   "version": "0.3.2"
  },
  "kernelspec": {
   "display_name": "Python 3",
   "language": "python",
   "name": "python3"
  },
  "language_info": {
   "codemirror_mode": {
    "name": "ipython",
    "version": 3
   },
   "file_extension": ".py",
   "mimetype": "text/x-python",
   "name": "python",
   "nbconvert_exporter": "python",
   "pygments_lexer": "ipython3",
   "version": "3.6.6"
  }
 },
 "nbformat": 4,
 "nbformat_minor": 1
}
